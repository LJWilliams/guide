{
 "metadata": {
  "name": "setdict-1-sets"
 },
 "nbformat": 3,
 "nbformat_minor": 0,
 "worksheets": [
  {
   "cells": [
    {
     "cell_type": "heading",
     "level": 1,
     "metadata": {},
     "source": [
      "Sets and Dictionaries: Sets"
     ]
    },
    {
     "cell_type": "markdown",
     "metadata": {},
     "source": [
      "### Understand:\n",
      "\n",
      "-   That lists and arrays are not the only data structures available to programmers.\n",
      "-   That a set stores unique values.\n",
      "-   How to perform common operations on sets.\n",
      "-   How to use a set to eliminate duplicate values from data."
     ]
    },
    {
     "cell_type": "markdown",
     "metadata": {},
     "source": [
      "Let's start with something simpler than our actual inventory problem.\n",
      "Suppose we have a list of all the atoms in the warehouse,\n",
      "and we want to know which different kinds we have---not how many,\n",
      "but just their types.\n",
      "We could solve this problem using a list, and a function like this to\n",
      "insert another atom:"
     ]
    },
    {
     "cell_type": "code",
     "collapsed": false,
     "input": [
      "def another_atom(seen, atom):                                                                                                                                           \n",
      "    for i in range(len(seen)):                                                                                                                                          \n",
      "        if seen[i] == atom:                                                                                                                                             \n",
      "            return # atom is already present, so do not re-add                                                                                                          \n",
      "    seen.append(atom)"
     ],
     "language": "python",
     "metadata": {},
     "outputs": [],
     "prompt_number": 20
    },
    {
     "cell_type": "markdown",
     "metadata": {},
     "source": [
      "`another_atom`'s arguments are a list of the unique atoms we've already seen, and the symbol of the atom we're adding. Inside the function, we loop over the atoms that are already in the list. If we find the one we're trying to add, we exit the function immediately: we aren't supposed to have duplicates in our list, so there's nothing to add. If we reach the end of the list without finding this symbol, though, we append it. This is a common [design pattern](glossary.ipynb#design-pattern): either we find pre-existing data in a loop and return right away, or take some default action if we finish the loop without finding a match."
     ]
    },
    {
     "cell_type": "markdown",
     "metadata": {},
     "source": [
      "Let's watch this function in action. We start with an empty list. If the first atomic symbol is `'Na'`, we find no match (since the list is empty), so we add it. The next symbol is `'Fe'`; it doesn't match `'Na'`, so we add it as well. Our third symbol is `'Na'` again. It matches the first entry in the list, so we exit the function immediately."
     ]
    },
    {
     "cell_type": "markdown",
     "metadata": {},
     "source": [
      "  ---------|----------------\n",
      "  *start*  |`[]`\n",
      "  `'Na'`   |`['Na']`\n",
      "  `'Fe'`   |`['Na', 'Fe']`\n",
      "  `'Na'`   |`['Na', 'Fe']`\n",
      "  ---------|----------------"
     ]
    },
    {
     "cell_type": "markdown",
     "metadata": {},
     "source": [
      "This code works, but it is inefficient. Suppose there are *V* distinct atomic symbols in our data, and *N* symbols in total. Each time we add an observation to our list, we have to look through an average of *V/2* entries. The total running time for our program is therefore approximately *NV/2*. If *V* is small, this is only a few times larger than *N*, but what happens if we're keeping track of something like patient records rather than atoms? In that case, most values are distinct, so *V* is approximately the same as *N*, which means that our running time is proportional to *N<sup>2</sup>/2*. That's bad news: if we double the size of our data set, our program runs four times slower, and if we double it again, our program will have slowed down by a factor of 16."
     ]
    },
    {
     "cell_type": "markdown",
     "metadata": {},
     "source": [
      "There's a better way to solve this problem that is simpler to use and\n",
      "runs much faster. The trick is to use a [set](glossary.ipynb#set) to\n",
      "store the symbols. A set is an unordered collection of distinct items.\n",
      "The word \"collection\" means that a set can hold zero or more values. The\n",
      "word \"distinct\" means that any particular value is either in the set or\n",
      "not: a set can't store two or more copies of the same thing. And\n",
      "finally, \"unordered\" means that values are simply \"in\" the set. They're\n",
      "not in any particular order, and there's no first value or last value.\n",
      "(They actually are stored in some order, but as we'll discuss in [the\n",
      "next section](setdict-2-storage.ipynb), that order is as random as the computer can\n",
      "make it.)"
     ]
    },
    {
     "cell_type": "markdown",
     "metadata": {},
     "source": [
      "To create a set, we simply write down its elements inside curly braces\n",
      "as we would in a math class:"
     ]
    },
    {
     "cell_type": "code",
     "collapsed": false,
     "input": [
      "primes = {3, 5, 7}"
     ],
     "language": "python",
     "metadata": {},
     "outputs": [],
     "prompt_number": 21
    },
    {
     "cell_type": "code",
     "collapsed": false,
     "input": [
      "from IPython.display import SVG\n",
      "SVG(filename='setdict-simple-set.svg') # as per http://lists.ipython.scipy.org/pipermail/ipython-user/2012-July/010542.html"
     ],
     "language": "python",
     "metadata": {},
     "outputs": [
      {
       "output_type": "pyout",
       "prompt_number": 41,
       "svg": [
        "<svg baseProfile=\"tiny\" clip-path=\"url(#presentation_clip_path)\" fill-rule=\"evenodd\" preserveAspectRatio=\"xMidYMid\" stroke-linejoin=\"round\" stroke-width=\"28.222\" version=\"1.2\" viewBox=\"0 0 21590 27940\" xml:space=\"preserve\" xmlns=\"http://www.w3.org/2000/svg\" xmlns:anim=\"urn:oasis:names:tc:opendocument:xmlns:animation:1.0\" xmlns:draw=\"urn:oasis:names:tc:opendocument:xmlns:drawing:1.0\" xmlns:presentation=\"urn:oasis:names:tc:opendocument:xmlns:presentation:1.0\" xmlns:smil=\"urn:oasis:names:tc:opendocument:xmlns:smil-compatible:1.0\" xmlns:xlink=\"http://www.w3.org/1999/xlink\">\n",
        " <defs>\n",
        "  <clipPath clipPathUnits=\"userSpaceOnUse\" id=\"presentation_clip_path\">\n",
        "   <rect height=\"27940\" width=\"21590\" x=\"0\" y=\"0\"/>\n",
        "  </clipPath>\n",
        " </defs>\n",
        " <defs>\n",
        "  <font horiz-adv-x=\"2048\" id=\"EmbeddedFont_1\">\n",
        "   <font-face ascent=\"1850\" descent=\"442\" font-family=\"Arial embedded\" font-style=\"normal\" font-weight=\"normal\" units-per-em=\"2048\"/>\n",
        "   <missing-glyph d=\"M 0,0 L 2047,0 2047,2047 0,2047 0,0 Z\" horiz-adv-x=\"2048\"/>\n",
        "   <glyph d=\"M 811,1266 L 85,1266 85,1451 1038,1451 1038,1301 C 948,1201 858,1069 770,905 681,742 613,573 564,400 530,279 507,145 498,0 L 313,0 C 315,115 337,253 379,415 421,578 481,734 560,885 638,1036 722,1163 811,1266 Z\" horiz-adv-x=\"940\" unicode=\"7\"/>\n",
        "   <glyph d=\"M 100,384 L 284,398 C 298,313 328,249 375,206 421,164 481,142 555,142 646,142 718,174 772,237 826,300 853,384 853,489 853,589 828,667 778,724 728,782 656,811 562,811 503,811 453,797 412,771 371,745 338,711 313,668 L 128,697 284,1451 967,1451 967,1266 434,1266 359,883 C 441,948 526,981 616,981 734,981 834,936 916,847 997,757 1038,641 1038,500 1038,366 1001,250 926,152 835,32 711,-28 554,-28 426,-28 321,9 239,84 158,160 111,260 100,384 Z\" horiz-adv-x=\"967\" unicode=\"5\"/>\n",
        "   <glyph d=\"M 100,384 L 284,412 C 304,317 337,248 383,206 428,163 488,142 562,142 648,142 718,171 772,228 826,285 853,355 853,440 853,520 827,586 775,638 723,691 656,717 576,717 543,717 502,710 453,697 L 473,868 C 484,866 493,866 500,866 573,866 638,884 695,922 753,959 782,1017 782,1094 782,1156 761,1207 718,1248 675,1288 620,1308 552,1308 485,1308 429,1288 385,1248 340,1208 311,1147 299,1067 L 114,1095 C 135,1217 184,1312 261,1379 337,1446 432,1479 546,1479 625,1479 697,1462 763,1428 829,1394 880,1347 915,1288 950,1229 967,1167 967,1100 967,1037 950,980 916,928 882,877 832,835 765,805 852,785 919,742 967,678 1014,614 1038,534 1038,438 1038,308 993,198 901,107 810,17 695,-28 555,-28 429,-28 325,10 242,86 159,163 111,262 100,384 Z\" horiz-adv-x=\"967\" unicode=\"3\"/>\n",
        "  </font>\n",
        " </defs>\n",
        " <g class=\"Master_Slide\" clip-path=\"url(#presentation_clip_path)\" id=\"id2\">\n",
        "  <g class=\"Background\" id=\"bg-id2\" visibility=\"visible\">\n",
        "   <rect fill=\"none\" height=\"27940\" stroke=\"none\" width=\"21590\" x=\"0\" y=\"0\"/>\n",
        "  </g>\n",
        "  <g class=\"BackgroundObjects\" id=\"bo-id2\" visibility=\"visible\"/>\n",
        " </g>\n",
        " <g class=\"Slide\" clip-path=\"url(#presentation_clip_path)\" id=\"id1\" visibility=\"visible\">\n",
        "  <g class=\"com.sun.star.drawing.CustomShape\">\n",
        "   <g>\n",
        "    <path d=\"M 4433,3956 C 4373,3585 4650,3235 4927,3235 5015,3232 5105,3269 5179,3323 5251,3155 5382,3052 5531,3052 5629,3057 5734,3107 5808,3198 5861,3049 5974,2962 6095,2962 6198,2962 6291,3025 6350,3123 6418,3023 6521,2962 6627,2962 6801,2962 6947,3118 6978,3338 7146,3399 7267,3598 7267,3826 7267,3895 7259,3962 7233,4026 7305,4137 7348,4274 7348,4415 7348,4733 7156,5001 6910,5047 6910,5351 6721,5590 6484,5590 6402,5590 6325,5561 6257,5505 6195,5774 5997,5963 5777,5963 5612,5963 5457,5850 5363,5672 5276,5740 5322,5780 5071,5780 4865,5780 4676,5640 4576,5412 4339,5407 4218,5226 4218,4998 4218,4893 4249,4797 4305,4718 4203,4651 4147,4519 4147,4368 4147,4155 4271,3980 4433,3956\" fill=\"none\" stroke=\"rgb(128,128,128)\"/>\n",
        "    <path d=\"M 4147,2962 L 4147,2962\" fill=\"none\" stroke=\"rgb(128,128,128)\"/>\n",
        "    <path d=\"M 7348,5963 L 7348,5963\" fill=\"none\" stroke=\"rgb(128,128,128)\"/>\n",
        "    <path d=\"M 4433,3956 C 4435,3991 4449,4030 4456,4062\" fill=\"none\" stroke=\"rgb(128,128,128)\"/>\n",
        "    <path d=\"M 4147,2962 L 4147,2962\" fill=\"none\" stroke=\"rgb(128,128,128)\"/>\n",
        "    <path d=\"M 7348,5963 L 7348,5963\" fill=\"none\" stroke=\"rgb(128,128,128)\"/>\n",
        "    <path d=\"M 5179,3323 C 5214,3349 5255,3385 5283,3421\" fill=\"none\" stroke=\"rgb(128,128,128)\"/>\n",
        "    <path d=\"M 4147,2962 L 4147,2962\" fill=\"none\" stroke=\"rgb(128,128,128)\"/>\n",
        "    <path d=\"M 7348,5963 L 7348,5963\" fill=\"none\" stroke=\"rgb(128,128,128)\"/>\n",
        "    <path d=\"M 5808,3198 C 5796,3227 5788,3262 5781,3295\" fill=\"none\" stroke=\"rgb(128,128,128)\"/>\n",
        "    <path d=\"M 4147,2962 L 4147,2962\" fill=\"none\" stroke=\"rgb(128,128,128)\"/>\n",
        "    <path d=\"M 7348,5963 L 7348,5963\" fill=\"none\" stroke=\"rgb(128,128,128)\"/>\n",
        "    <path d=\"M 6350,3123 C 6328,3156 6316,3200 6301,3241\" fill=\"none\" stroke=\"rgb(128,128,128)\"/>\n",
        "    <path d=\"M 4147,2962 L 4147,2962\" fill=\"none\" stroke=\"rgb(128,128,128)\"/>\n",
        "    <path d=\"M 7348,5963 L 7348,5963\" fill=\"none\" stroke=\"rgb(128,128,128)\"/>\n",
        "    <path d=\"M 6978,3338 C 6981,3363 6996,3419 6990,3431\" fill=\"none\" stroke=\"rgb(128,128,128)\"/>\n",
        "    <path d=\"M 4147,2962 L 4147,2962\" fill=\"none\" stroke=\"rgb(128,128,128)\"/>\n",
        "    <path d=\"M 7348,5963 L 7348,5963\" fill=\"none\" stroke=\"rgb(128,128,128)\"/>\n",
        "    <path d=\"M 7233,4026 C 7208,4097 7174,4159 7127,4211\" fill=\"none\" stroke=\"rgb(128,128,128)\"/>\n",
        "    <path d=\"M 4147,2962 L 4147,2962\" fill=\"none\" stroke=\"rgb(128,128,128)\"/>\n",
        "    <path d=\"M 7348,5963 L 7348,5963\" fill=\"none\" stroke=\"rgb(128,128,128)\"/>\n",
        "    <path d=\"M 6912,5047 C 6924,4934 6855,4657 6666,4552\" fill=\"none\" stroke=\"rgb(128,128,128)\"/>\n",
        "    <path d=\"M 4147,2962 L 4147,2962\" fill=\"none\" stroke=\"rgb(128,128,128)\"/>\n",
        "    <path d=\"M 7348,5963 L 7348,5963\" fill=\"none\" stroke=\"rgb(128,128,128)\"/>\n",
        "    <path d=\"M 6257,5505 C 6269,5460 6273,5418 6276,5373\" fill=\"none\" stroke=\"rgb(128,128,128)\"/>\n",
        "    <path d=\"M 4147,2962 L 4147,2962\" fill=\"none\" stroke=\"rgb(128,128,128)\"/>\n",
        "    <path d=\"M 7348,5963 L 7348,5963\" fill=\"none\" stroke=\"rgb(128,128,128)\"/>\n",
        "    <path d=\"M 5365,5672 C 5341,5636 5326,5594 5311,5551\" fill=\"none\" stroke=\"rgb(128,128,128)\"/>\n",
        "    <path d=\"M 4147,2962 L 4147,2962\" fill=\"none\" stroke=\"rgb(128,128,128)\"/>\n",
        "    <path d=\"M 7348,5963 L 7348,5963\" fill=\"none\" stroke=\"rgb(128,128,128)\"/>\n",
        "    <path d=\"M 4576,5412 C 4604,5407 4633,5398 4659,5386\" fill=\"none\" stroke=\"rgb(128,128,128)\"/>\n",
        "    <path d=\"M 4147,2962 L 4147,2962\" fill=\"none\" stroke=\"rgb(128,128,128)\"/>\n",
        "    <path d=\"M 7348,5963 L 7348,5963\" fill=\"none\" stroke=\"rgb(128,128,128)\"/>\n",
        "    <path d=\"M 4305,4718 C 4354,4754 4410,4786 4492,4773\" fill=\"none\" stroke=\"rgb(128,128,128)\"/>\n",
        "    <path d=\"M 4147,2962 L 4147,2962\" fill=\"none\" stroke=\"rgb(128,128,128)\"/>\n",
        "    <path d=\"M 7348,5963 L 7348,5963\" fill=\"none\" stroke=\"rgb(128,128,128)\"/>\n",
        "    <rect fill=\"none\" height=\"3001\" stroke=\"none\" width=\"3201\" x=\"4147\" y=\"2962\"/>\n",
        "   </g>\n",
        "  </g>\n",
        "  <g class=\"com.sun.star.drawing.LineShape\">\n",
        "   <g>\n",
        "    <path d=\"M 6247,3862 L 7625,2646\" fill=\"none\" stroke=\"rgb(0,0,0)\"/>\n",
        "    <path d=\"M 7947,2362 L 7510,2547 7709,2772 7947,2362 Z\" fill=\"rgb(0,0,0)\" stroke=\"none\"/>\n",
        "   </g>\n",
        "  </g>\n",
        "  <g class=\"com.sun.star.drawing.TextShape\">\n",
        "   <g>\n",
        "    <path d=\"M 8574,2362 L 8147,2362 8147,1400 9000,1400 9000,2362 8574,2362\" fill=\"none\" stroke=\"rgb(0,0,0)\"/>\n",
        "    <g font-family=\"Arial embedded\" font-size=\"635px\" font-style=\"normal\" font-weight=\"400\">\n",
        "     <g fill=\"rgb(0,0,0)\" stroke=\"none\">\n",
        "      <text x=\"8397\" y=\"2101\">3</text></g>\n",
        "    </g>\n",
        "   </g>\n",
        "  </g>\n",
        "  <g class=\"com.sun.star.drawing.LineShape\">\n",
        "   <g>\n",
        "    <path d=\"M 5247,4362 L 3072,4697\" fill=\"none\" stroke=\"rgb(0,0,0)\"/>\n",
        "    <path d=\"M 2647,4762 L 3115,4842 3069,4545 2647,4762 Z\" fill=\"rgb(0,0,0)\" stroke=\"none\"/>\n",
        "   </g>\n",
        "  </g>\n",
        "  <g class=\"com.sun.star.drawing.LineShape\">\n",
        "   <g>\n",
        "    <path d=\"M 6347,4662 L 7397,5412\" fill=\"none\" stroke=\"rgb(0,0,0)\"/>\n",
        "    <path d=\"M 7747,5662 L 7468,5278 7294,5523 7747,5662 Z\" fill=\"rgb(0,0,0)\" stroke=\"none\"/>\n",
        "   </g>\n",
        "  </g>\n",
        "  <g class=\"com.sun.star.drawing.TextShape\">\n",
        "   <g>\n",
        "    <path d=\"M 8374,6462 L 7947,6462 7947,5500 8800,5500 8800,6462 8374,6462\" fill=\"none\" stroke=\"rgb(0,0,0)\"/>\n",
        "    <g font-family=\"Arial embedded\" font-size=\"635px\" font-style=\"normal\" font-weight=\"400\">\n",
        "     <g fill=\"rgb(0,0,0)\" stroke=\"none\">\n",
        "      <text x=\"8197\" y=\"6201\">5</text></g>\n",
        "    </g>\n",
        "   </g>\n",
        "  </g>\n",
        "  <g class=\"com.sun.star.drawing.TextShape\">\n",
        "   <g>\n",
        "    <path d=\"M 1921,5124 L 1494,5124 1494,4162 2347,4162 2347,5124 1921,5124\" fill=\"none\" stroke=\"rgb(0,0,0)\"/>\n",
        "    <g font-family=\"Arial embedded\" font-size=\"635px\" font-style=\"normal\" font-weight=\"400\">\n",
        "     <g fill=\"rgb(0,0,0)\" stroke=\"none\">\n",
        "      <text x=\"1744\" y=\"4863\">7</text></g>\n",
        "    </g>\n",
        "   </g>\n",
        "  </g>\n",
        " </g>\n",
        "</svg>"
       ],
       "text": [
        "<IPython.core.display.SVG at 0x105ee9290>"
       ]
      }
     ],
     "prompt_number": 41
    },
    {
     "cell_type": "markdown",
     "metadata": {},
     "source": [
      "However, we have to use `set()` to create an empty set, because the\n",
      "symbol `{}` was already being used for something else when sets were\n",
      "added to Python:"
     ]
    },
    {
     "cell_type": "code",
     "collapsed": false,
     "input": [
      "even_primes = set() # not '{}' as in math"
     ],
     "language": "python",
     "metadata": {},
     "outputs": [],
     "prompt_number": 22
    },
    {
     "cell_type": "markdown",
     "metadata": {},
     "source": [
      "We'll meet that \"something else\" [later in this chapter](setdict-3-dict.ipynb)."
     ]
    },
    {
     "cell_type": "markdown",
     "metadata": {},
     "source": [
      "To see what we can do with sets, let's create three holding the integers\n",
      "0 through 9, the first half of that same range of numbers (0 through 4),\n",
      "and the odd values 1, 3, 5, 7, and 9:"
     ]
    },
    {
     "cell_type": "code",
     "collapsed": false,
     "input": [
      "ten  = {0, 1, 2, 3, 4, 5, 6, 7, 8, 9}\n",
      "lows = {0, 1, 2, 3, 4}\n",
      "odds = {1, 3, 5, 7, 9}"
     ],
     "language": "python",
     "metadata": {},
     "outputs": [],
     "prompt_number": 23
    },
    {
     "cell_type": "markdown",
     "metadata": {},
     "source": [
      "If we ask Python to display one of our sets, it shows us this:"
     ]
    },
    {
     "cell_type": "code",
     "collapsed": false,
     "input": [
      "print lows"
     ],
     "language": "python",
     "metadata": {},
     "outputs": [
      {
       "output_type": "stream",
       "stream": "stdout",
       "text": [
        "set([0, 1, 2, 3, 4])\n"
       ]
      }
     ],
     "prompt_number": 24
    },
    {
     "cell_type": "markdown",
     "metadata": {},
     "source": [
      "rather than using the curly-bracket notation. I personally regard this\n",
      "as a design flaw, but it does remind us that we can create always create\n",
      "a set from a list."
     ]
    },
    {
     "cell_type": "markdown",
     "metadata": {},
     "source": [
      "Sets have methods just like strings and lists, and, like the methods of\n",
      "strings and lists, most of those methods create new sets instead of\n",
      "modifying the set they are called for. These three come straight from\n",
      "mathematics:"
     ]
    },
    {
     "cell_type": "code",
     "collapsed": false,
     "input": [
      "print lows.union(odds)"
     ],
     "language": "python",
     "metadata": {},
     "outputs": [
      {
       "output_type": "stream",
       "stream": "stdout",
       "text": [
        "set([0, 1, 2, 3, 4, 5, 7, 9])\n"
       ]
      }
     ],
     "prompt_number": 25
    },
    {
     "cell_type": "code",
     "collapsed": false,
     "input": [
      "print lows.intersection(odds)"
     ],
     "language": "python",
     "metadata": {},
     "outputs": [
      {
       "output_type": "stream",
       "stream": "stdout",
       "text": [
        "set([1, 3])\n"
       ]
      }
     ],
     "prompt_number": 26
    },
    {
     "cell_type": "code",
     "collapsed": false,
     "input": [
      "print lows.difference(odds)"
     ],
     "language": "python",
     "metadata": {},
     "outputs": [
      {
       "output_type": "stream",
       "stream": "stdout",
       "text": [
        "set([0, 2, 4])\n"
       ]
      }
     ],
     "prompt_number": 27
    },
    {
     "cell_type": "markdown",
     "metadata": {},
     "source": [
      "Another method that creates a new set is `symmetric_difference`, which\n",
      "is sometimes called \"exclusive or\":"
     ]
    },
    {
     "cell_type": "code",
     "collapsed": false,
     "input": [
      "print lows.symmetric_difference(odds)"
     ],
     "language": "python",
     "metadata": {},
     "outputs": [
      {
       "output_type": "stream",
       "stream": "stdout",
       "text": [
        "set([0, 2, 4, 5, 7, 9])\n"
       ]
      }
     ],
     "prompt_number": 28
    },
    {
     "cell_type": "markdown",
     "metadata": {},
     "source": [
      "It returns the values that are in one set or another, but not in both."
     ]
    },
    {
     "cell_type": "markdown",
     "metadata": {},
     "source": [
      "Not all set methods return new sets. For example, `issubset` returns\n",
      "`True` or `False` depending on whether all the elements in one set are\n",
      "present in another:"
     ]
    },
    {
     "cell_type": "code",
     "collapsed": false,
     "input": [
      "print lows.issubset(ten)"
     ],
     "language": "python",
     "metadata": {},
     "outputs": [
      {
       "output_type": "stream",
       "stream": "stdout",
       "text": [
        "True\n"
       ]
      }
     ],
     "prompt_number": 29
    },
    {
     "cell_type": "markdown",
     "metadata": {},
     "source": [
      "A complementary method called `issuperset` also exists, and does the\n",
      "obvious thing:"
     ]
    },
    {
     "cell_type": "code",
     "collapsed": false,
     "input": [
      "print lows.issuperset(odds)"
     ],
     "language": "python",
     "metadata": {},
     "outputs": [
      {
       "output_type": "stream",
       "stream": "stdout",
       "text": [
        "False\n"
       ]
      }
     ],
     "prompt_number": 30
    },
    {
     "cell_type": "markdown",
     "metadata": {},
     "source": [
      "We can count how many values are in a set using `len` (just as we would\n",
      "to find the length of a list or string), and check whether a particular\n",
      "value is in the set or not using `in`:"
     ]
    },
    {
     "cell_type": "code",
     "collapsed": false,
     "input": [
      "print len(odds)"
     ],
     "language": "python",
     "metadata": {},
     "outputs": [
      {
       "output_type": "stream",
       "stream": "stdout",
       "text": [
        "5\n"
       ]
      }
     ],
     "prompt_number": 31
    },
    {
     "cell_type": "code",
     "collapsed": false,
     "input": [
      "print 6 in odds"
     ],
     "language": "python",
     "metadata": {},
     "outputs": [
      {
       "output_type": "stream",
       "stream": "stdout",
       "text": [
        "False\n"
       ]
      }
     ],
     "prompt_number": 32
    },
    {
     "cell_type": "markdown",
     "metadata": {},
     "source": [
      "Finally, some methods modify the sets they are called for. The most\n",
      "commonly used is `add`, which adds an element to the set:"
     ]
    },
    {
     "cell_type": "code",
     "collapsed": false,
     "input": [
      "lows.add(9)\n",
      "print lows"
     ],
     "language": "python",
     "metadata": {},
     "outputs": [
      {
       "output_type": "stream",
       "stream": "stdout",
       "text": [
        "set([0, 1, 2, 3, 4, 9])\n"
       ]
      }
     ],
     "prompt_number": 33
    },
    {
     "cell_type": "markdown",
     "metadata": {},
     "source": [
      "If the thing being added is already in the set, `add` has no effect,\n",
      "because any specific thing can appear in a set at most once:"
     ]
    },
    {
     "cell_type": "code",
     "collapsed": false,
     "input": [
      "lows.add(9)\n",
      "print lows"
     ],
     "language": "python",
     "metadata": {},
     "outputs": [
      {
       "output_type": "stream",
       "stream": "stdout",
       "text": [
        "set([0, 1, 2, 3, 4, 9])\n"
       ]
      }
     ],
     "prompt_number": 34
    },
    {
     "cell_type": "markdown",
     "metadata": {},
     "source": [
      "We can also remove individual elements:"
     ]
    },
    {
     "cell_type": "code",
     "collapsed": false,
     "input": [
      "lows.remove(0)\n",
      "print lows"
     ],
     "language": "python",
     "metadata": {},
     "outputs": [
      {
       "output_type": "stream",
       "stream": "stdout",
       "text": [
        "set([1, 2, 3, 4, 9])\n"
       ]
      }
     ],
     "prompt_number": 35
    },
    {
     "cell_type": "markdown",
     "metadata": {},
     "source": [
      "or clear the entire set:"
     ]
    },
    {
     "cell_type": "code",
     "collapsed": false,
     "input": [
      "lows.clear()\n",
      "print lows"
     ],
     "language": "python",
     "metadata": {},
     "outputs": [
      {
       "output_type": "stream",
       "stream": "stdout",
       "text": [
        "set([])\n"
       ]
      }
     ],
     "prompt_number": 36
    },
    {
     "cell_type": "markdown",
     "metadata": {},
     "source": [
      "Removing elements is similar to deleting things from a list, but there's\n",
      "an important difference. When we delete something from a list, we\n",
      "specify its *location*. When we delete something from a set, though, we\n",
      "must specify the *value* that we want to take out, because sets are not\n",
      "ordered. If that value isn't in the set, `remove` does nothing."
     ]
    },
    {
     "cell_type": "markdown",
     "metadata": {},
     "source": [
      "To help make programs easier to type and read, most of the methods we've\n",
      "just seen can be written using arithmetic operators as well. For\n",
      "example, instead of `lows.issubset(ten)`, we can write `lows <= ten`,\n",
      "just as if we were using pen and paper. There are even a couple of\n",
      "operators, like the strict subset test `<`, that don't have long-winded\n",
      "equivalents."
     ]
    },
    {
     "cell_type": "markdown",
     "metadata": {},
     "source": [
      "  ------------------- ----------------------------------- ----------------\n",
      "  *difference*        `lows.difference(odds)`             `lows - odds`\n",
      "  *intersection*      `lows.intersection(odds)`           `lows & odds`\n",
      "  *subset*            `lows.issubset(ten)`                `lows <= ten`\n",
      "  *strict subset*                                         `lows < ten`\n",
      "  *superset*          `lows.issuperset(ten)`              `lows >= odds`\n",
      "  *strict superset*                                       `lows >= odds`\n",
      "  *exclusive or*      `lows.symmetric_difference(odds)`   `lows ^ odds`\n",
      "  *union*             `lows.union(odds)`                  `lows | odds`\n",
      "  ------------------- ----------------------------------- ----------------"
     ]
    },
    {
     "cell_type": "heading",
     "level": 2,
     "metadata": {},
     "source": [
      "Negation"
     ]
    },
    {
     "cell_type": "markdown",
     "metadata": {},
     "source": [
      "One operator that *isn't* in this list is \"not\". Mathematicians are\n",
      "quite comfortable negating sets: for example, the negation of the set\n",
      "{1, 2} is all numbers that aren't 1 or 2. This is a lot harder to do in\n",
      "a program, though. To continue with our example, we'd expect the integer\n",
      "3 to be in the negation of the set `{1, 2}`, but is 107.7382? Or the\n",
      "string \"pterodactyl\"?"
     ]
    },
    {
     "cell_type": "markdown",
     "metadata": {},
     "source": [
      "The fact that the values in a set are distinct makes them a convenient\n",
      "way to get rid of duplicate values, like the \"unique atoms\" problem at\n",
      "the start of this section. Suppose we have a file containing the names\n",
      "of all the atoms in our warehouse, and our task is to produce a list of\n",
      "the their types. Here's how simple that code is:"
     ]
    },
    {
     "cell_type": "code",
     "collapsed": false,
     "input": [
      "import sys\n",
      "\n",
      "filename = sys.argv[1]\n",
      "source = open(filename, 'r')\n",
      "atoms = set()\n",
      "for line in source:\n",
      "    name = line.strip()\n",
      "    atoms.add(name)\n",
      "print atoms"
     ],
     "language": "python",
     "metadata": {},
     "outputs": [
      {
       "ename": "IOError",
       "evalue": "[Errno 2] No such file or directory: '-f'",
       "output_type": "pyerr",
       "traceback": [
        "\u001b[0;31m---------------------------------------------------------------------------\u001b[0m\n\u001b[0;31mIOError\u001b[0m                                   Traceback (most recent call last)",
        "\u001b[0;32m<ipython-input-37-a9c65db0b89a>\u001b[0m in \u001b[0;36m<module>\u001b[0;34m()\u001b[0m\n\u001b[1;32m      2\u001b[0m \u001b[0;34m\u001b[0m\u001b[0m\n\u001b[1;32m      3\u001b[0m \u001b[0mfilename\u001b[0m \u001b[0;34m=\u001b[0m \u001b[0msys\u001b[0m\u001b[0;34m.\u001b[0m\u001b[0margv\u001b[0m\u001b[0;34m[\u001b[0m\u001b[0;36m1\u001b[0m\u001b[0;34m]\u001b[0m\u001b[0;34m\u001b[0m\u001b[0m\n\u001b[0;32m----> 4\u001b[0;31m \u001b[0msource\u001b[0m \u001b[0;34m=\u001b[0m \u001b[0mopen\u001b[0m\u001b[0;34m(\u001b[0m\u001b[0mfilename\u001b[0m\u001b[0;34m,\u001b[0m \u001b[0;34m'r'\u001b[0m\u001b[0;34m)\u001b[0m\u001b[0;34m\u001b[0m\u001b[0m\n\u001b[0m\u001b[1;32m      5\u001b[0m \u001b[0matoms\u001b[0m \u001b[0;34m=\u001b[0m \u001b[0mset\u001b[0m\u001b[0;34m(\u001b[0m\u001b[0;34m)\u001b[0m\u001b[0;34m\u001b[0m\u001b[0m\n\u001b[1;32m      6\u001b[0m \u001b[0;32mfor\u001b[0m \u001b[0mline\u001b[0m \u001b[0;32min\u001b[0m \u001b[0msource\u001b[0m\u001b[0;34m:\u001b[0m\u001b[0;34m\u001b[0m\u001b[0m\n",
        "\u001b[0;31mIOError\u001b[0m: [Errno 2] No such file or directory: '-f'"
       ]
      }
     ],
     "prompt_number": 37
    },
    {
     "cell_type": "markdown",
     "metadata": {},
     "source": [
      "We start by opening the file and creating an empty set which we will\n",
      "fill with atomic symbols. As we read the lines in the file, we strip off\n",
      "any whitespace (such as the newline character at the end of the line)\n",
      "and put the resulting strings in the set. When we're done, we print the\n",
      "set. Here are a couple of simple tests:"
     ]
    },
    {
     "cell_type": "markdown",
     "metadata": {},
     "source": [
      "**file contents** | **result**\n",
      "------------------|-----------\n",
      "`Fl`              | `set(['Fl'])\n",
      "------------------|-----------\n",
      "`Na`              | `set(['Na', 'Fe'])\n",
      "`Fe`              |\n",
      "`Na`              |"
     ]
    },
    {
     "cell_type": "markdown",
     "metadata": {},
     "source": [
      "The answers are correct, but the display might be a bit confusing: what\n",
      "are those extra square brackets for? The answer is that if we want to\n",
      "construct a set with values using `set()`, we have to pass those values\n",
      "in a single object, such as a list. This syntax:"
     ]
    },
    {
     "cell_type": "code",
     "collapsed": false,
     "input": [
      "set('Na', 'Fe', 'Fl')"
     ],
     "language": "python",
     "metadata": {},
     "outputs": [
      {
       "ename": "TypeError",
       "evalue": "set expected at most 1 arguments, got 3",
       "output_type": "pyerr",
       "traceback": [
        "\u001b[0;31m---------------------------------------------------------------------------\u001b[0m\n\u001b[0;31mTypeError\u001b[0m                                 Traceback (most recent call last)",
        "\u001b[0;32m<ipython-input-38-fafdc01ddf1f>\u001b[0m in \u001b[0;36m<module>\u001b[0;34m()\u001b[0m\n\u001b[0;32m----> 1\u001b[0;31m \u001b[0mset\u001b[0m\u001b[0;34m(\u001b[0m\u001b[0;34m'Na'\u001b[0m\u001b[0;34m,\u001b[0m \u001b[0;34m'Fe'\u001b[0m\u001b[0;34m,\u001b[0m \u001b[0;34m'Fl'\u001b[0m\u001b[0;34m)\u001b[0m\u001b[0;34m\u001b[0m\u001b[0m\n\u001b[0m",
        "\u001b[0;31mTypeError\u001b[0m: set expected at most 1 arguments, got 3"
       ]
      }
     ],
     "prompt_number": 38
    },
    {
     "cell_type": "markdown",
     "metadata": {},
     "source": [
      "does *not* work, even though it seems more natural. On the other hand,\n",
      "this means that we can construct a set from almost anything that a `for`\n",
      "loop can iterate over:"
     ]
    },
    {
     "cell_type": "code",
     "collapsed": false,
     "input": [
      "set('lithium')"
     ],
     "language": "python",
     "metadata": {},
     "outputs": [
      {
       "output_type": "pyout",
       "prompt_number": 39,
       "text": [
        "set(['i', 'h', 'm', 'l', 'u', 't'])"
       ]
      }
     ],
     "prompt_number": 39
    },
    {
     "cell_type": "markdown",
     "metadata": {},
     "source": [
      "But hang on: if we're adding characters to the set in the order `'l'`,\n",
      "`'i'`, `'t'`, `'h'`, `'i'`, `'u'`, `'m'`, why does Python show them in\n",
      "the order `'i'`, `'h'`, `'m'`, `'l'`, `'u'`, `'t'`? To answer that\n",
      "question, we need to look at how sets are actually stored, and why\n",
      "they're stored that way."
     ]
    },
    {
     "cell_type": "heading",
     "level": 2,
     "metadata": {},
     "source": [
      "Summary"
     ]
    },
    {
     "cell_type": "markdown",
     "metadata": {},
     "source": [
      "-   Use sets to store distinct unique values.\n",
      "-   Create sets using `set()` or `{v1, v2, ...}`.\n",
      "-   Sets are mutable, i.e., they can be updated in place like lists.\n",
      "-   A loop over a set produces each element once, in arbitrary order.\n",
      "-   Use sets to find unique things."
     ]
    },
    {
     "cell_type": "code",
     "collapsed": false,
     "input": [],
     "language": "python",
     "metadata": {},
     "outputs": []
    }
   ],
   "metadata": {}
  }
 ]
}