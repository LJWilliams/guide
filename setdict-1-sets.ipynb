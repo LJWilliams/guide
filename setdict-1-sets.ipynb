{
 "metadata": {
  "name": "setdict-1-sets"
 },
 "nbformat": 3,
 "nbformat_minor": 0,
 "worksheets": [
  {
   "cells": [
    {
     "cell_type": "heading",
     "level": 1,
     "metadata": {},
     "source": [
      "Sets and Dictionaries: Sets"
     ]
    },
    {
     "cell_type": "heading",
     "level": 2,
     "metadata": {},
     "source": [
      "Motivating Problem"
     ]
    },
    {
     "cell_type": "markdown",
     "metadata": {},
     "source": [
      "-   Want to know what kinds of atoms we have in our warehouse\n",
      "-   Could use a list of unique atomic symbols seen so far"
     ]
    },
    {
     "cell_type": "code",
     "collapsed": false,
     "input": [
      "def another_atom(seen, atom):                                                                                                                                           \n",
      "    for i in range(len(seen)):                                                                                                                                          \n",
      "        if seen[i] == atom:                                                                                                                                             \n",
      "            return # atom is already present, so do not re-add                                                                                                          \n",
      "    seen.append(atom)"
     ],
     "language": "python",
     "metadata": {},
     "outputs": [],
     "prompt_number": 26
    },
    {
     "cell_type": "markdown",
     "metadata": {},
     "source": [
      "-   But checking and inserting are expensive\n",
      "    - Takes an average of N<sup>2</sup> steps to do either\n",
      "    - So doubling the size of the data slows the program down 4X"
     ]
    },
    {
     "cell_type": "heading",
     "level": 2,
     "metadata": {},
     "source": [
      "Introducing Sets"
     ]
    },
    {
     "cell_type": "code",
     "collapsed": false,
     "input": [
      "primes = {3, 5, 7}"
     ],
     "language": "python",
     "metadata": {},
     "outputs": [],
     "prompt_number": 27
    },
    {
     "cell_type": "markdown",
     "metadata": {},
     "source": [
      "![A Simple Set](files/setdict-simple-set.png)"
     ]
    },
    {
     "cell_type": "code",
     "collapsed": false,
     "input": [
      "even_primes = set() # not '{}' as in math"
     ],
     "language": "python",
     "metadata": {},
     "outputs": [],
     "prompt_number": 28
    },
    {
     "cell_type": "code",
     "collapsed": false,
     "input": [
      "ten  = {0, 1, 2, 3, 4, 5, 6, 7, 8, 9}\n",
      "lows = {0, 1, 2, 3, 4}\n",
      "odds = {1, 3, 5, 7, 9}"
     ],
     "language": "python",
     "metadata": {},
     "outputs": [],
     "prompt_number": 29
    },
    {
     "cell_type": "code",
     "collapsed": false,
     "input": [
      "print lows"
     ],
     "language": "python",
     "metadata": {},
     "outputs": [
      {
       "output_type": "stream",
       "stream": "stdout",
       "text": [
        "set([0, 1, 2, 3, 4])\n"
       ]
      }
     ],
     "prompt_number": 30
    },
    {
     "cell_type": "code",
     "collapsed": false,
     "input": [
      "print lows.union(odds)"
     ],
     "language": "python",
     "metadata": {},
     "outputs": [
      {
       "output_type": "stream",
       "stream": "stdout",
       "text": [
        "set([0, 1, 2, 3, 4, 5, 7, 9])\n"
       ]
      }
     ],
     "prompt_number": 31
    },
    {
     "cell_type": "code",
     "collapsed": false,
     "input": [
      "print lows.intersection(odds)"
     ],
     "language": "python",
     "metadata": {},
     "outputs": [
      {
       "output_type": "stream",
       "stream": "stdout",
       "text": [
        "set([1, 3])\n"
       ]
      }
     ],
     "prompt_number": 32
    },
    {
     "cell_type": "code",
     "collapsed": false,
     "input": [
      "print lows.difference(odds)"
     ],
     "language": "python",
     "metadata": {},
     "outputs": [
      {
       "output_type": "stream",
       "stream": "stdout",
       "text": [
        "set([0, 2, 4])\n"
       ]
      }
     ],
     "prompt_number": 33
    },
    {
     "cell_type": "code",
     "collapsed": false,
     "input": [
      "print lows.symmetric_difference(odds)"
     ],
     "language": "python",
     "metadata": {},
     "outputs": [
      {
       "output_type": "stream",
       "stream": "stdout",
       "text": [
        "set([0, 2, 4, 5, 7, 9])\n"
       ]
      }
     ],
     "prompt_number": 34
    },
    {
     "cell_type": "code",
     "collapsed": false,
     "input": [
      "print lows.issubset(ten)"
     ],
     "language": "python",
     "metadata": {},
     "outputs": [
      {
       "output_type": "stream",
       "stream": "stdout",
       "text": [
        "True\n"
       ]
      }
     ],
     "prompt_number": 35
    },
    {
     "cell_type": "code",
     "collapsed": false,
     "input": [
      "print lows.issuperset(odds)"
     ],
     "language": "python",
     "metadata": {},
     "outputs": [
      {
       "output_type": "stream",
       "stream": "stdout",
       "text": [
        "False\n"
       ]
      }
     ],
     "prompt_number": 36
    },
    {
     "cell_type": "code",
     "collapsed": false,
     "input": [
      "print len(odds)"
     ],
     "language": "python",
     "metadata": {},
     "outputs": [
      {
       "output_type": "stream",
       "stream": "stdout",
       "text": [
        "5\n"
       ]
      }
     ],
     "prompt_number": 37
    },
    {
     "cell_type": "code",
     "collapsed": false,
     "input": [
      "print 6 in odds"
     ],
     "language": "python",
     "metadata": {},
     "outputs": [
      {
       "output_type": "stream",
       "stream": "stdout",
       "text": [
        "False\n"
       ]
      }
     ],
     "prompt_number": 38
    },
    {
     "cell_type": "code",
     "collapsed": false,
     "input": [
      "lows.add(9)\n",
      "print lows"
     ],
     "language": "python",
     "metadata": {},
     "outputs": [
      {
       "output_type": "stream",
       "stream": "stdout",
       "text": [
        "set([0, 1, 2, 3, 4, 9])\n"
       ]
      }
     ],
     "prompt_number": 39
    },
    {
     "cell_type": "code",
     "collapsed": false,
     "input": [
      "lows.add(9)\n",
      "print lows"
     ],
     "language": "python",
     "metadata": {},
     "outputs": [
      {
       "output_type": "stream",
       "stream": "stdout",
       "text": [
        "set([0, 1, 2, 3, 4, 9])\n"
       ]
      }
     ],
     "prompt_number": 40
    },
    {
     "cell_type": "code",
     "collapsed": false,
     "input": [
      "lows.remove(3)"
     ],
     "language": "python",
     "metadata": {},
     "outputs": [],
     "prompt_number": 41
    },
    {
     "cell_type": "code",
     "collapsed": false,
     "input": [
      "lows.clear()\n",
      "print lows"
     ],
     "language": "python",
     "metadata": {},
     "outputs": [
      {
       "output_type": "stream",
       "stream": "stdout",
       "text": [
        "set([])\n"
       ]
      }
     ],
     "prompt_number": 42
    },
    {
     "cell_type": "markdown",
     "metadata": {},
     "source": [
      "<table>\n",
      "  <tr>\n",
      "    <td> <strong>Operation</strong> </td>\n",
      "    <td> <strong>As Method</strong> </td>\n",
      "      <td> <strong>As Operator</strong> </td>\n",
      "  </tr>\n",
      "  <tr>\n",
      "    <td> <em>difference</em> </td>\n",
      "    <td> <code>lows.difference(odds)</code> </td>\n",
      "    <td> <code>lows - odds</code> </td>\n",
      "  </tr>\n",
      "  <tr>\n",
      "    <td> <em>intersection</em> </td>\n",
      "    <td> <code>lows.intersection(odds)</code> </td>\n",
      "    <td> <code>lows &amp; odds</code> </td>\n",
      "  </tr>\n",
      "  <tr>\n",
      "    <td> <em>subset</em> </td>\n",
      "    <td> <code>lows.issubset(ten)</code> </td>\n",
      "    <td> <code>lows &lt;= ten</code> </td>\n",
      "  </tr>\n",
      "  <tr>\n",
      "    <td> <em>strict subset</em> </td> <td> </td>\n",
      "    <td> <code>lows &lt; ten</code> </td>\n",
      "  </tr>\n",
      "  <tr>\n",
      "    <td> <em>superset</em> </td>\n",
      "    <td> <code>lows.issuperset(ten)</code> </td>\n",
      "    <td> <code>lows &gt;= odds</code> </td>\n",
      "  </tr>\n",
      "  <tr>\n",
      "    <td> <em>strict superset</em> </td> <td> </td>\n",
      "    <td> <code>lows &gt;= odds</code> </td>\n",
      "  </tr>\n",
      "  <tr>\n",
      "    <td> <em>exclusive or</em> </td>\n",
      "    <td> <code>lows.symmetric_difference(odds)</code> </td>\n",
      "    <td> <code>lows ^ odds</code> </td>\n",
      "  </tr>\n",
      "  <tr>\n",
      "    <td> <em>union</em> </td>\n",
      "    <td> <code>lows.union(odds)</code> </td>\n",
      "    <td> <code>lows | odds</code> </td>\n",
      "  </tr>\n",
      "</table>"
     ]
    },
    {
     "cell_type": "markdown",
     "metadata": {},
     "source": [
      "Solution to original problem:"
     ]
    },
    {
     "cell_type": "raw",
     "metadata": {},
     "source": [
      "import sys\n",
      "filename = sys.argv[1]\n",
      "source = open(filename, 'r')\n",
      "atoms = set()\n",
      "for line in source:\n",
      "    name = line.strip()\n",
      "    atoms.add(name)\n",
      "print atoms"
     ]
    },
    {
     "cell_type": "markdown",
     "metadata": {},
     "source": [
      "<table>\n",
      "    <tr>\n",
      "        <td><strong>Input File</strong></td>\n",
      "        <td><strong>Result</strong></td>\n",
      "    </tr>\n",
      "    <tr>\n",
      "        <td>Na<br/>Fe<br/>Na<br/>Si<br/>Pd<br/>Na</td>\n",
      "        <td>set(['Fe', 'Si', 'Na'])</td>\n",
      "    </tr>\n",
      "</table>"
     ]
    },
    {
     "cell_type": "markdown",
     "metadata": {},
     "source": [
      "Why the funny output? Because `set()` takes one argument (a collection of values), so Python displays sets that way."
     ]
    },
    {
     "cell_type": "code",
     "collapsed": false,
     "input": [
      "set('lithium')"
     ],
     "language": "python",
     "metadata": {},
     "outputs": [
      {
       "output_type": "pyout",
       "prompt_number": 43,
       "text": [
        "set(['i', 'h', 'm', 'l', 'u', 't'])"
       ]
      }
     ],
     "prompt_number": 43
    },
    {
     "cell_type": "heading",
     "level": 2,
     "metadata": {},
     "source": [
      "Summary"
     ]
    },
    {
     "cell_type": "markdown",
     "metadata": {},
     "source": [
      "-   Use sets to store distinct unique values.\n",
      "-   Create sets using `set()` or `{v1, v2, ...}`.\n",
      "-   Sets are mutable, i.e., they can be updated in place like lists.\n",
      "-   A loop over a set produces each element once, in arbitrary order.\n",
      "-   Use sets to find unique things."
     ]
    },
    {
     "cell_type": "heading",
     "level": 2,
     "metadata": {},
     "source": [
      "Challenges"
     ]
    },
    {
     "cell_type": "markdown",
     "metadata": {},
     "source": [
      "A) Mathematicians are quite comfortable negating sets:\n",
      "for example, the negation of the set `{1, 2}` is all numbers that aren't 1 or 2.\n",
      "Why don't Python's sets have a *`not` operator?"
     ]
    },
    {
     "cell_type": "markdown",
     "metadata": {},
     "source": [
      "B) Fan has created a set containing the names of five noble gases:"
     ]
    },
    {
     "cell_type": "code",
     "collapsed": false,
     "input": [
      "gases = {'helium', 'argon', 'neon', 'xenon', 'radon'}\n",
      "print gases"
     ],
     "language": "python",
     "metadata": {},
     "outputs": [
      {
       "output_type": "stream",
       "stream": "stdout",
       "text": [
        "set(['helium', 'argon', 'xenon', 'neon', 'radon'])\n"
       ]
      }
     ],
     "prompt_number": 44
    },
    {
     "cell_type": "markdown",
     "metadata": {},
     "source": [
      "He would like to print them in alphabetical order.  What is one simple way\n",
      "to do this?  (Hint: the `list` function converts its arguments to a list.)"
     ]
    },
    {
     "cell_type": "markdown",
     "metadata": {},
     "source": [
      "C) Fan has the following code:"
     ]
    },
    {
     "cell_type": "code",
     "collapsed": false,
     "input": [
      "left = {'He', 'Ar', 'Ne'}\n",
      "right = set()\n",
      "while len(left) > len(right):\n",
      "    temp = left.pop()\n",
      "    right.add(temp)"
     ],
     "language": "python",
     "metadata": {},
     "outputs": [],
     "prompt_number": 45
    },
    {
     "cell_type": "markdown",
     "metadata": {},
     "source": [
      "What values could `left` and `right` have after this code is finished running?\n",
      "Explain why your answer makes this code hard to test."
     ]
    },
    {
     "cell_type": "markdown",
     "metadata": {},
     "source": [
      "D) Fan has written the following code:"
     ]
    },
    {
     "cell_type": "code",
     "collapsed": false,
     "input": [
      "left = {'He', 'Ar', 'Ne'}\n",
      "right = {'Ar', 'Xe'}\n",
      "for element in left:            # X\n",
      "    if element not in right:    # X\n",
      "        right.add(element)      # X\n",
      "assert left.issubset(right)"
     ],
     "language": "python",
     "metadata": {},
     "outputs": [],
     "prompt_number": 46
    },
    {
     "cell_type": "markdown",
     "metadata": {},
     "source": [
      "What single line could be used in place of the three marked with 'X' to achieve the same effect?"
     ]
    }
   ],
   "metadata": {}
  }
 ]
}