{
 "metadata": {
  "name": "setdict"
 },
 "nbformat": 3,
 "nbformat_minor": 0,
 "worksheets": [
  {
   "cells": [
    {
     "cell_type": "heading",
     "level": 1,
     "metadata": {},
     "source": [
      "Sets and Dictionaries"
     ]
    },
    {
     "cell_type": "markdown",
     "metadata": {},
     "source": [
      "Fan Fullerene has just joined Molecules'R'Us, a nanotechnology startup\n",
      "that fabricates molecules using only the highest quality atoms. His\n",
      "first job is to build a simple inventory management system that compares\n",
      "incoming orders for molecules to the stock of atoms in the company's\n",
      "supercooled warehouse to see how many of those molecules we can build.\n",
      "For example, if the warehouse holds 20 hydrogen atoms, 5 oxygen atoms,\n",
      "and 11 nitrogen atoms, Fan could make 10 water molecules (H<sub>2</sub>O)\n",
      "or 6 ammonia molecules (NH<sub>3</sub>), but could not make any methane\n",
      "(CH<sub>4</sub>) because there isn't any carbon.\n",
      "\n",
      "Fan could solve this problem using the tools we've seen so far. As we'll\n",
      "see, though, it's a lot more efficient to do it using a different data\n",
      "structure. And \"efficient\" means both \"takes less programmer time to\n",
      "create\" and \"takes less computer time to execute\": the data structures\n",
      "introduced in this chapter are both simpler to use and faster than the\n",
      "lists most programmers are introduced to first.\n",
      "\n",
      "1. [Sets](setdict-1-sets.ipynb)\n",
      "1. [Storage](setdict-2-storage.ipynb)\n",
      "1. [Dictionaries](setdict-3-dict.ipynb)\n",
      "1. [Simple Examples](setdict-4-examples.ipynb)\n",
      "1. [Nanotech Inventory](setdict-5-nanotech.ipynb)\n",
      "1. [Phylogenetic Trees](setdict-6-phylotree.ipynb)\n",
      "1. [Summing Up](setdict-7-summary.ipynb)"
     ]
    }
   ],
   "metadata": {}
  }
 ]
}